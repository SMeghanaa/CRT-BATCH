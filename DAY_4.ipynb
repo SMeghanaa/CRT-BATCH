{
  "nbformat": 4,
  "nbformat_minor": 0,
  "metadata": {
    "colab": {
      "name": "DAY 4",
      "provenance": []
    },
    "kernelspec": {
      "name": "python3",
      "display_name": "Python 3"
    }
  },
  "cells": [
    {
      "cell_type": "code",
      "metadata": {
        "id": "dIfTjw59loWe",
        "colab_type": "code",
        "colab": {
          "base_uri": "https://localhost:8080/",
          "height": 50
        },
        "outputId": "71cd1634-4faa-4ff7-908d-552aab231bf5"
      },
      "source": [
        "s='Python'\n",
        "print(s.upper())\n",
        "print(s.lower())"
      ],
      "execution_count": 3,
      "outputs": [
        {
          "output_type": "stream",
          "text": [
            "PYTHON\n",
            "python\n"
          ],
          "name": "stdout"
        }
      ]
    },
    {
      "cell_type": "code",
      "metadata": {
        "id": "XnfF5Xdhm7cj",
        "colab_type": "code",
        "colab": {
          "base_uri": "https://localhost:8080/",
          "height": 67
        },
        "outputId": "85d43929-78bf-40aa-95da-8cc464fc4027"
      },
      "source": [
        "#String boolean method:\n",
        "print(s)\n",
        "print(s.islower())\n",
        "print(s.isupper())"
      ],
      "execution_count": 6,
      "outputs": [
        {
          "output_type": "stream",
          "text": [
            "Python\n",
            "False\n",
            "False\n"
          ],
          "name": "stdout"
        }
      ]
    },
    {
      "cell_type": "code",
      "metadata": {
        "id": "WsyE9VwvnVmY",
        "colab_type": "code",
        "colab": {
          "base_uri": "https://localhost:8080/",
          "height": 50
        },
        "outputId": "a16edd93-9c6b-472c-ea42-bed2c439189e"
      },
      "source": [
        "#istitle         #the first letter should always be in caps for it to be the title\n",
        "s1=\"Python Programmming\"\n",
        "s2='Python programming'\n",
        "print(s1.istitle()) \n",
        "print(s2.istitle())"
      ],
      "execution_count": 10,
      "outputs": [
        {
          "output_type": "stream",
          "text": [
            "True\n",
            "False\n"
          ],
          "name": "stdout"
        }
      ]
    },
    {
      "cell_type": "code",
      "metadata": {
        "id": "6Z9TMHc1oP4P",
        "colab_type": "code",
        "colab": {
          "base_uri": "https://localhost:8080/",
          "height": 84
        },
        "outputId": "0eea49d2-98dd-44f7-b40f-cefe1c8bbfda"
      },
      "source": [
        "#isnumeric\n",
        "s3='python'\n",
        "s4='12345'\n",
        "print(s3.isnumeric())\n",
        "print(s4.isnumeric())\n",
        "#isalpha\n",
        "print(s3.isalpha())\n",
        "print(s4.isalpha())"
      ],
      "execution_count": 12,
      "outputs": [
        {
          "output_type": "stream",
          "text": [
            "False\n",
            "True\n",
            "False\n",
            "False\n"
          ],
          "name": "stdout"
        }
      ]
    },
    {
      "cell_type": "code",
      "metadata": {
        "id": "9qkVmCH5pQUR",
        "colab_type": "code",
        "colab": {
          "base_uri": "https://localhost:8080/",
          "height": 50
        },
        "outputId": "260178ea-9ca2-4447-c081-ce301e73d1f3"
      },
      "source": [
        "#isspace \n",
        "s5=' '\n",
        "s6='p y t h o n'\n",
        "print(s5.isspace())\n",
        "print(s6.isspace())"
      ],
      "execution_count": 13,
      "outputs": [
        {
          "output_type": "stream",
          "text": [
            "True\n",
            "False\n"
          ],
          "name": "stdout"
        }
      ]
    },
    {
      "cell_type": "code",
      "metadata": {
        "id": "pdzm41gKmIsV",
        "colab_type": "code",
        "colab": {
          "base_uri": "https://localhost:8080/",
          "height": 34
        },
        "outputId": "c1c8c2f8-c8cd-4f37-c9c8-cc7f1643cb93"
      },
      "source": [
        "# Function to covert digits in a number to a list\n",
        "#input:18976\n",
        "#output:[1,8,9,7,6]\n",
        "def numberconv(n):\n",
        "    li=[]\n",
        "    while n!=0:\n",
        "        r=n%10\n",
        "        li.append(r)\n",
        "        n=n//10\n",
        "    li.reverse()\n",
        "    return li\n",
        "numberconv(18976)"
      ],
      "execution_count": 19,
      "outputs": [
        {
          "output_type": "execute_result",
          "data": {
            "text/plain": [
              "[1, 8, 9, 7, 6]"
            ]
          },
          "metadata": {
            "tags": []
          },
          "execution_count": 19
        }
      ]
    },
    {
      "cell_type": "code",
      "metadata": {
        "id": "291o0PMVueA2",
        "colab_type": "code",
        "colab": {
          "base_uri": "https://localhost:8080/",
          "height": 34
        },
        "outputId": "11406d52-c11c-4007-e968-3d0d13385828"
      },
      "source": [
        "#function to check given factors of a given number\n",
        "#input:12\n",
        "#output:1,2,3,6,12\n",
        "\n",
        "def factor(n):\n",
        "    for i in range(1,n+1):\n",
        "      if n%i==0:\n",
        "        print(i,end=\" \")\n",
        "factor(12)        "
      ],
      "execution_count": 23,
      "outputs": [
        {
          "output_type": "stream",
          "text": [
            "1 2 3 4 6 12 "
          ],
          "name": "stdout"
        }
      ]
    },
    {
      "cell_type": "code",
      "metadata": {
        "id": "QvSRFXHJvb8O",
        "colab_type": "code",
        "colab": {
          "base_uri": "https://localhost:8080/",
          "height": 34
        },
        "outputId": "45d4ff2e-626e-4c92-e2e3-9a487c3c9630"
      },
      "source": [
        "#input:500,520\n",
        "#output:500,502,504..520\n",
        "def evenn(n,m):\n",
        "    for i in range(n,m+2,2):\n",
        "        print(i,end=\" \")\n",
        "evenn(500,520)"
      ],
      "execution_count": 25,
      "outputs": [
        {
          "output_type": "stream",
          "text": [
            "500 502 504 506 508 510 512 514 516 518 520 "
          ],
          "name": "stdout"
        }
      ]
    },
    {
      "cell_type": "code",
      "metadata": {
        "id": "Im2oiYrQ0fzn",
        "colab_type": "code",
        "colab": {}
      },
      "source": [
        ""
      ],
      "execution_count": 0,
      "outputs": []
    }
  ]
}