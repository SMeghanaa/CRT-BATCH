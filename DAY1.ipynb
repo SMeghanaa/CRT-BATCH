{
  "nbformat": 4,
  "nbformat_minor": 0,
  "metadata": {
    "colab": {
      "name": "DAY1",
      "provenance": [],
      "collapsed_sections": []
    },
    "kernelspec": {
      "name": "python3",
      "display_name": "Python 3"
    }
  },
  "cells": [
    {
      "cell_type": "code",
      "metadata": {
        "id": "qa2K81rNABOU",
        "colab_type": "code",
        "outputId": "950e96e6-3547-425c-fc90-01d07ad76f1b",
        "colab": {
          "base_uri": "https://localhost:8080/",
          "height": 35
        }
      },
      "source": [
        "print(\"Hello world\")"
      ],
      "execution_count": 0,
      "outputs": [
        {
          "output_type": "stream",
          "text": [
            "Hello world\n"
          ],
          "name": "stdout"
        }
      ]
    },
    {
      "cell_type": "code",
      "metadata": {
        "id": "R-_O3frMDNua",
        "colab_type": "code",
        "outputId": "34f4ea65-3aa9-48d5-adbe-584727a50765",
        "colab": {
          "base_uri": "https://localhost:8080/",
          "height": 72
        }
      },
      "source": [
        "print(\"gitam\")\n",
        "print(\"gitam\")\n",
        "print(\"gitam\")"
      ],
      "execution_count": 0,
      "outputs": [
        {
          "output_type": "stream",
          "text": [
            "gitam\n",
            "gitam\n",
            "gitam\n"
          ],
          "name": "stdout"
        }
      ]
    },
    {
      "cell_type": "markdown",
      "metadata": {
        "id": "GpgwoomMG-lr",
        "colab_type": "text"
      },
      "source": [
        ""
      ]
    },
    {
      "cell_type": "code",
      "metadata": {
        "id": "pLyUPeHAF7nS",
        "colab_type": "code",
        "outputId": "a91ec059-d9b6-4118-9c46-76325744afab",
        "colab": {
          "base_uri": "https://localhost:8080/",
          "height": 35
        }
      },
      "source": [
        "print(\"gitam\", end=\"@\")\n",
        "print(\"gitam\")"
      ],
      "execution_count": 0,
      "outputs": [
        {
          "output_type": "stream",
          "text": [
            "gitam@gitam\n"
          ],
          "name": "stdout"
        }
      ]
    },
    {
      "cell_type": "code",
      "metadata": {
        "id": "MT-AqXWoHZ99",
        "colab_type": "code",
        "outputId": "bc8772f6-038f-4f47-f621-71a18f992c13",
        "colab": {
          "base_uri": "https://localhost:8080/",
          "height": 35
        }
      },
      "source": [
        "a=10\n",
        "a\n",
        "a/2\n",
        "b=30\n",
        "a+b"
      ],
      "execution_count": 0,
      "outputs": [
        {
          "output_type": "execute_result",
          "data": {
            "text/plain": [
              "40"
            ]
          },
          "metadata": {
            "tags": []
          },
          "execution_count": 13
        }
      ]
    },
    {
      "cell_type": "code",
      "metadata": {
        "id": "ieBvnbdBI8UL",
        "colab_type": "code",
        "colab": {}
      },
      "source": [
        ""
      ],
      "execution_count": 0,
      "outputs": []
    },
    {
      "cell_type": "code",
      "metadata": {
        "id": "lkDAOZ-9I8bu",
        "colab_type": "code",
        "outputId": "751b73c6-b157-49b8-89d4-84db2d80d629",
        "colab": {
          "base_uri": "https://localhost:8080/",
          "height": 35
        }
      },
      "source": [
        "name=\"gitam\"\n",
        "add=\"hyd\"\n",
        "age='w'\n",
        "print(\"university name\",name,\"address\",add)"
      ],
      "execution_count": 0,
      "outputs": [
        {
          "output_type": "stream",
          "text": [
            "university name gitam address hyd\n"
          ],
          "name": "stdout"
        }
      ]
    },
    {
      "cell_type": "code",
      "metadata": {
        "id": "z1_lLI3_Kk4t",
        "colab_type": "code",
        "outputId": "06de01a3-84cc-4efa-b8ea-82db1067851e",
        "colab": {
          "base_uri": "https://localhost:8080/",
          "height": 54
        }
      },
      "source": [
        "input(\"enter your name\")\n"
      ],
      "execution_count": 0,
      "outputs": [
        {
          "output_type": "stream",
          "text": [
            "enter your namemeghana\n"
          ],
          "name": "stdout"
        },
        {
          "output_type": "execute_result",
          "data": {
            "text/plain": [
              "'meghana'"
            ]
          },
          "metadata": {
            "tags": []
          },
          "execution_count": 19
        }
      ]
    },
    {
      "cell_type": "code",
      "metadata": {
        "id": "2docDqrwLLEG",
        "colab_type": "code",
        "outputId": "b9deb71a-9b50-4e15-92f9-3b18cf102e2a",
        "colab": {
          "base_uri": "https://localhost:8080/",
          "height": 54
        }
      },
      "source": [
        "c=str(input())\n",
        "type(c)"
      ],
      "execution_count": 0,
      "outputs": [
        {
          "output_type": "stream",
          "text": [
            "Harini\n"
          ],
          "name": "stdout"
        },
        {
          "output_type": "execute_result",
          "data": {
            "text/plain": [
              "str"
            ]
          },
          "metadata": {
            "tags": []
          },
          "execution_count": 26
        }
      ]
    },
    {
      "cell_type": "code",
      "metadata": {
        "id": "bcVE6P5oN0l-",
        "colab_type": "code",
        "outputId": "095e92f9-0b8c-47d0-961b-4fb34524832b",
        "colab": {
          "base_uri": "https://localhost:8080/",
          "height": 35
        }
      },
      "source": [
        "x=10\n",
        "y=13.5\n",
        "z=3+6j\n",
        "print(type(x),type(y),type(z))"
      ],
      "execution_count": 0,
      "outputs": [
        {
          "output_type": "stream",
          "text": [
            "<class 'int'> <class 'float'> <class 'complex'>\n"
          ],
          "name": "stdout"
        }
      ]
    },
    {
      "cell_type": "markdown",
      "metadata": {
        "id": "MVgSmAFfOfyc",
        "colab_type": "text"
      },
      "source": [
        "x+y\n",
        "y+z\n",
        "d=complex(y)\n",
        "d"
      ]
    },
    {
      "cell_type": "code",
      "metadata": {
        "id": "OMo9bbJfV4IB",
        "colab_type": "code",
        "outputId": "24b18907-9550-4ff6-ef58-d67c77a078be",
        "colab": {
          "base_uri": "https://localhost:8080/",
          "height": 54
        }
      },
      "source": [
        "n=int(input('enter a number'))\n",
        "if n%2!=0:  \n",
        "  print(\"odd\")\n",
        "else:\n",
        "    print(\"even\")\n"
      ],
      "execution_count": 0,
      "outputs": [
        {
          "output_type": "stream",
          "text": [
            "enter a number6\n",
            "even\n"
          ],
          "name": "stdout"
        }
      ]
    },
    {
      "cell_type": "code",
      "metadata": {
        "id": "_FKcrGa-i5Vo",
        "colab_type": "code",
        "outputId": "c57ab0be-cca8-46a2-f724-b9f4dd40173d",
        "colab": {
          "base_uri": "https://localhost:8080/",
          "height": 54
        }
      },
      "source": [
        "n=int(input(\"enter the number\"))\n",
        "if n>0:\n",
        "  print(\"positive\")\n",
        "elif n<0:\n",
        "  print(\"negative\")\n",
        "else:\n",
        "  print(\"zero\")"
      ],
      "execution_count": 0,
      "outputs": [
        {
          "output_type": "stream",
          "text": [
            "enter the number-90\n",
            "negative\n"
          ],
          "name": "stdout"
        }
      ]
    },
    {
      "cell_type": "code",
      "metadata": {
        "id": "Z4AdFDCmkFc0",
        "colab_type": "code",
        "outputId": "56e7b646-ef5a-46f1-888a-e16cfbd701ca",
        "colab": {
          "base_uri": "https://localhost:8080/",
          "height": 54
        }
      },
      "source": [
        "n=int(input(\"enter the year\"))\n",
        "if n%4==0 and n%100!=0 or n%400==0:\n",
        "  print(\"leap year\")\n",
        "else:\n",
        "  print(\"not a leap year\")"
      ],
      "execution_count": 0,
      "outputs": [
        {
          "output_type": "stream",
          "text": [
            "enter the year2019\n",
            "not a leap year\n"
          ],
          "name": "stdout"
        }
      ]
    }
  ]
}