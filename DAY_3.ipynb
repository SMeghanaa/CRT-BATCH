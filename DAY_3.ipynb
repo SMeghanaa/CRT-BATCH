{
  "nbformat": 4,
  "nbformat_minor": 0,
  "metadata": {
    "colab": {
      "name": "DAY 3",
      "provenance": []
    },
    "kernelspec": {
      "name": "python3",
      "display_name": "Python 3"
    }
  },
  "cells": [
    {
      "cell_type": "code",
      "metadata": {
        "id": "ZEO3d1nUce4Q",
        "colab_type": "code",
        "colab": {}
      },
      "source": [
        "####  "
      ],
      "execution_count": 0,
      "outputs": []
    },
    {
      "cell_type": "markdown",
      "metadata": {
        "id": "9bLMHBlQc9Id",
        "colab_type": "text"
      },
      "source": [
        "#### Syntax\n",
        "- def FunctionName(arguments):\n",
        "    - Statements\n",
        "    -Return"
      ]
    },
    {
      "cell_type": "code",
      "metadata": {
        "id": "SCG9qeFadfvf",
        "colab_type": "code",
        "colab": {
          "base_uri": "https://localhost:8080/",
          "height": 34
        },
        "outputId": "110d9023-5e78-4fc9-af92-6f6d6e829e88"
      },
      "source": [
        "# Input:1234\n",
        "# Output: 6(2+4)\n",
        "def EvenDigitSum(n):\n",
        "    s=0\n",
        "    while n!=0:\n",
        "        r=n%10\n",
        "        if r%2==0:\n",
        "            s=s+r\n",
        "        n=n//10\n",
        "    print(s)\n",
        "\n",
        "EvenDigitSum(1234)      "
      ],
      "execution_count": 4,
      "outputs": [
        {
          "output_type": "stream",
          "text": [
            "6\n"
          ],
          "name": "stdout"
        }
      ]
    },
    {
      "cell_type": "code",
      "metadata": {
        "id": "W_uQIxQ-gojB",
        "colab_type": "code",
        "colab": {
          "base_uri": "https://localhost:8080/",
          "height": 34
        },
        "outputId": "178d2813-5cd2-4806-cbb6-2b449beffbb0"
      },
      "source": [
        "def LargeNumber(n):\n",
        "   large=0\n",
        "   while n!=0:\n",
        "      r=n%10\n",
        "      if large<r:\n",
        "          large=r \n",
        "      n=n//10\n",
        "   return large\n",
        "l=LargeNumber(19535)\n",
        "l"
      ],
      "execution_count": 8,
      "outputs": [
        {
          "output_type": "execute_result",
          "data": {
            "text/plain": [
              "9"
            ]
          },
          "metadata": {
            "tags": []
          },
          "execution_count": 8
        }
      ]
    },
    {
      "cell_type": "markdown",
      "metadata": {
        "id": "AWlhtZ8Didae",
        "colab_type": "text"
      },
      "source": [
        "##Factorial of number\n",
        "## strong nmber: 145=1!+4!+5!\n",
        "## palindrome"
      ]
    },
    {
      "cell_type": "markdown",
      "metadata": {
        "id": "9BdtZsPtiurs",
        "colab_type": "text"
      },
      "source": [
        "## collection types\n",
        "    -1.List\n",
        "    -2.Tuple\n",
        "    -3.Set\n",
        "    -4.Dictionary"
      ]
    },
    {
      "cell_type": "markdown",
      "metadata": {
        "id": "3Q1ADSgjjVlp",
        "colab_type": "text"
      },
      "source": [
        "###List\n",
        " -one of the datastructures available in python\n",
        "\n",
        " -list is always enclosed in []\n",
        "\n",
        " -elements in a list are separated by comma(,)"
      ]
    },
    {
      "cell_type": "markdown",
      "metadata": {
        "id": "dQFu3Q5Fj3Ts",
        "colab_type": "text"
      },
      "source": [
        ""
      ]
    },
    {
      "cell_type": "code",
      "metadata": {
        "id": "4kaMqSNkj3hE",
        "colab_type": "code",
        "colab": {
          "base_uri": "https://localhost:8080/",
          "height": 50
        },
        "outputId": "881212e2-107e-40cb-b90d-b68455b2893d"
      },
      "source": [
        "list1=[1,1.2,\"abc\"]\n",
        "print(list1)\n",
        "type(list1)"
      ],
      "execution_count": 10,
      "outputs": [
        {
          "output_type": "stream",
          "text": [
            "[1, 1.2, 'abc']\n"
          ],
          "name": "stdout"
        },
        {
          "output_type": "execute_result",
          "data": {
            "text/plain": [
              "list"
            ]
          },
          "metadata": {
            "tags": []
          },
          "execution_count": 10
        }
      ]
    },
    {
      "cell_type": "code",
      "metadata": {
        "id": "_B3gS-FJkmRF",
        "colab_type": "code",
        "colab": {
          "base_uri": "https://localhost:8080/",
          "height": 84
        },
        "outputId": "7be4e4ac-33da-495c-b46f-2a6caaa9c7df"
      },
      "source": [
        "l=[1,2,3,4]\n",
        "print(l[0])\n",
        "print(l[1])\n",
        "print(l[2])\n",
        "print(l[3])"
      ],
      "execution_count": 11,
      "outputs": [
        {
          "output_type": "stream",
          "text": [
            "1\n",
            "2\n",
            "3\n",
            "4\n"
          ],
          "name": "stdout"
        }
      ]
    },
    {
      "cell_type": "markdown",
      "metadata": {
        "id": "XIVEomIGlOrS",
        "colab_type": "text"
      },
      "source": [
        "##Negative indexing starts from the right"
      ]
    },
    {
      "cell_type": "code",
      "metadata": {
        "id": "BrLGgy6slrmH",
        "colab_type": "code",
        "colab": {}
      },
      "source": [
        ""
      ],
      "execution_count": 0,
      "outputs": []
    },
    {
      "cell_type": "code",
      "metadata": {
        "id": "G7lDy3qCk25m",
        "colab_type": "code",
        "colab": {
          "base_uri": "https://localhost:8080/",
          "height": 168
        },
        "outputId": "9e41e732-82b2-4b2c-89dd-7dcda5d831a4"
      },
      "source": [
        "l1=[1,5,6,3,2]\n",
        "print(l1[-1])\n",
        "print(l1[-2])\n",
        "print(l1[-3])\n",
        "print(l1[2:4])\n",
        "print(l1[0:4:2])\n",
        "print(l1[0:-2])\n",
        "print(l1[-3:])\n",
        "print(l1[::])\n",
        "print(l1[::2])"
      ],
      "execution_count": 25,
      "outputs": [
        {
          "output_type": "stream",
          "text": [
            "2\n",
            "3\n",
            "6\n",
            "[6, 3]\n",
            "[1, 6]\n",
            "[1, 5, 6]\n",
            "[6, 3, 2]\n",
            "[1, 5, 6, 3, 2]\n",
            "[1, 6, 2]\n"
          ],
          "name": "stdout"
        }
      ]
    },
    {
      "cell_type": "markdown",
      "metadata": {
        "id": "YngHPbPBjqcv",
        "colab_type": "text"
      },
      "source": [
        ""
      ]
    },
    {
      "cell_type": "code",
      "metadata": {
        "id": "mLaE5gFHqW5K",
        "colab_type": "code",
        "colab": {
          "base_uri": "https://localhost:8080/",
          "height": 101
        },
        "outputId": "74710e51-645d-4f4e-8e5a-ea770e134530"
      },
      "source": [
        "## Basic functions of list\n",
        "l=[1,2,3,4,5]\n",
        "print(max(l))\n",
        "print(min(l))\n",
        "print(sum(l))\n",
        "print(len(l))\n",
        "print(sum(l)/len(l))"
      ],
      "execution_count": 38,
      "outputs": [
        {
          "output_type": "stream",
          "text": [
            "5\n",
            "1\n",
            "15\n",
            "5\n",
            "3.0\n"
          ],
          "name": "stdout"
        }
      ]
    },
    {
      "cell_type": "code",
      "metadata": {
        "id": "wH5Vbf17rDmo",
        "colab_type": "code",
        "colab": {
          "base_uri": "https://localhost:8080/",
          "height": 34
        },
        "outputId": "134066d1-0cec-4913-af69-d55af3157866"
      },
      "source": [
        "\n",
        "l[0]=\"python\"\n",
        "l[4]=\"gitam\"\n",
        "l"
      ],
      "execution_count": 43,
      "outputs": [
        {
          "output_type": "execute_result",
          "data": {
            "text/plain": [
              "['python', 2, 3, 4, 'gitam']"
            ]
          },
          "metadata": {
            "tags": []
          },
          "execution_count": 43
        }
      ]
    },
    {
      "cell_type": "code",
      "metadata": {
        "id": "-glLpaRQrcMZ",
        "colab_type": "code",
        "colab": {}
      },
      "source": [
        "\n",
        "del l[4]\n",
        "l\n"
      ],
      "execution_count": 0,
      "outputs": []
    },
    {
      "cell_type": "code",
      "metadata": {
        "id": "B8h5jqzHt1E0",
        "colab_type": "code",
        "colab": {
          "base_uri": "https://localhost:8080/",
          "height": 67
        },
        "outputId": "36ece085-1560-4b98-a9eb-eae87981745a"
      },
      "source": [
        "l=[2,6,4,5]\n",
        "print(l*2)   #repition operation\n",
        "#to check for a certain value\n",
        "print(2 in l)  #Membership operator\n",
        "print(9 in l)"
      ],
      "execution_count": 50,
      "outputs": [
        {
          "output_type": "stream",
          "text": [
            "[2, 6, 4, 5, 2, 6, 4, 5]\n",
            "True\n",
            "False\n"
          ],
          "name": "stdout"
        }
      ]
    },
    {
      "cell_type": "code",
      "metadata": {
        "id": "yQ1948F5ufys",
        "colab_type": "code",
        "colab": {
          "base_uri": "https://localhost:8080/",
          "height": 84
        },
        "outputId": "323aeb6b-6d79-4263-e087-f8119fe4d51a"
      },
      "source": [
        "#To access the elements through iterations\n",
        "l\n",
        "for i in l:\n",
        "    print(i)"
      ],
      "execution_count": 52,
      "outputs": [
        {
          "output_type": "stream",
          "text": [
            "2\n",
            "6\n",
            "4\n",
            "5\n"
          ],
          "name": "stdout"
        }
      ]
    },
    {
      "cell_type": "code",
      "metadata": {
        "id": "ILvJe_LBvNQJ",
        "colab_type": "code",
        "colab": {
          "base_uri": "https://localhost:8080/",
          "height": 84
        },
        "outputId": "6ebacc86-f0de-4ff8-9e19-7835fc9faab8"
      },
      "source": [
        "for i in [10,2,6,7]:\n",
        "    print(i)"
      ],
      "execution_count": 56,
      "outputs": [
        {
          "output_type": "stream",
          "text": [
            "10\n",
            "2\n",
            "6\n",
            "7\n"
          ],
          "name": "stdout"
        }
      ]
    },
    {
      "cell_type": "code",
      "metadata": {
        "id": "7TLeDZQqvom0",
        "colab_type": "code",
        "colab": {
          "base_uri": "https://localhost:8080/",
          "height": 34
        },
        "outputId": "7e639a22-0ca0-4437-c96f-bf75922d4f6d"
      },
      "source": [
        "range(len(l))"
      ],
      "execution_count": 57,
      "outputs": [
        {
          "output_type": "execute_result",
          "data": {
            "text/plain": [
              "range(0, 4)"
            ]
          },
          "metadata": {
            "tags": []
          },
          "execution_count": 57
        }
      ]
    },
    {
      "cell_type": "code",
      "metadata": {
        "id": "AatsUIONvvkn",
        "colab_type": "code",
        "colab": {
          "base_uri": "https://localhost:8080/",
          "height": 151
        },
        "outputId": "b0db31ea-1f68-42af-d3ff-6b4f952676c8"
      },
      "source": [
        "for i in range(len(l)):\n",
        "    print(i)\n",
        "    \n",
        "for i in range(len(l)):\n",
        "    print(l[i])"
      ],
      "execution_count": 61,
      "outputs": [
        {
          "output_type": "stream",
          "text": [
            "0\n",
            "1\n",
            "2\n",
            "3\n",
            "2\n",
            "6\n",
            "4\n",
            "5\n"
          ],
          "name": "stdout"
        }
      ]
    },
    {
      "cell_type": "code",
      "metadata": {
        "id": "UE4_HyWDw30B",
        "colab_type": "code",
        "colab": {
          "base_uri": "https://localhost:8080/",
          "height": 34
        },
        "outputId": "3425725c-97ba-437f-d66b-2720d395b1d5"
      },
      "source": [
        "l=[2,3,4]\n",
        "l.append(\"python\")\n",
        "l.insert(1,\"gitam\")\n",
        "l"
      ],
      "execution_count": 68,
      "outputs": [
        {
          "output_type": "execute_result",
          "data": {
            "text/plain": [
              "[2, 'gitam', 3, 4, 'python']"
            ]
          },
          "metadata": {
            "tags": []
          },
          "execution_count": 68
        }
      ]
    },
    {
      "cell_type": "code",
      "metadata": {
        "id": "dWaB8tv6xj9N",
        "colab_type": "code",
        "colab": {
          "base_uri": "https://localhost:8080/",
          "height": 34
        },
        "outputId": "90bde0b3-c2d8-4dd8-c769-9a111d048b43"
      },
      "source": [
        "l.count(2) #returns the no of occurances of the given value\n",
        "l.index('gitam')\n",
        "l.pop(1) #removes the element\n",
        "l\n"
      ],
      "execution_count": 71,
      "outputs": [
        {
          "output_type": "execute_result",
          "data": {
            "text/plain": [
              "[2, 3, 4, 'python']"
            ]
          },
          "metadata": {
            "tags": []
          },
          "execution_count": 71
        }
      ]
    },
    {
      "cell_type": "code",
      "metadata": {
        "id": "Ci3BYvNOzMVy",
        "colab_type": "code",
        "colab": {
          "base_uri": "https://localhost:8080/",
          "height": 67
        },
        "outputId": "f014763d-926e-42e0-e00f-1c07b533fb6d"
      },
      "source": [
        "print(l)\n",
        "li=['abc','gitam']\n",
        "print(li)\n",
        "l.extend(li)  #concatenates 2 lists\n",
        "print(l)\n",
        "\n"
      ],
      "execution_count": 81,
      "outputs": [
        {
          "output_type": "stream",
          "text": [
            "[2, 3, 4, 'python', 'abc', 'gitam', 'abc', 'gitam', 'abc', 'gitam', 'abc', 'gitam', 'abc', 'gitam']\n",
            "['abc', 'gitam']\n",
            "[2, 3, 4, 'python', 'abc', 'gitam', 'abc', 'gitam', 'abc', 'gitam', 'abc', 'gitam', 'abc', 'gitam', 'abc', 'gitam']\n"
          ],
          "name": "stdout"
        }
      ]
    },
    {
      "cell_type": "code",
      "metadata": {
        "id": "Wiskpd730Fhm",
        "colab_type": "code",
        "colab": {
          "base_uri": "https://localhost:8080/",
          "height": 34
        },
        "outputId": "5fd5d9f6-5448-4c7d-c008-e6e35cf04d21"
      },
      "source": [
        "l1.sort()\n",
        "l1"
      ],
      "execution_count": 85,
      "outputs": [
        {
          "output_type": "execute_result",
          "data": {
            "text/plain": [
              "[1, 2, 3, 5, 6]"
            ]
          },
          "metadata": {
            "tags": []
          },
          "execution_count": 85
        }
      ]
    },
    {
      "cell_type": "code",
      "metadata": {
        "id": "ubEckEmt0v5t",
        "colab_type": "code",
        "colab": {
          "base_uri": "https://localhost:8080/",
          "height": 34
        },
        "outputId": "32c2da58-c9e5-4eba-b8b0-a81b5bd6129d"
      },
      "source": [
        "def BiggestNum(l):    \n",
        "    l.sort()\n",
        "    return l[-1]\n",
        "list1 = [1,45,32,5,90]\n",
        "BiggestNum(list1)\n",
        "      "
      ],
      "execution_count": 92,
      "outputs": [
        {
          "output_type": "execute_result",
          "data": {
            "text/plain": [
              "90"
            ]
          },
          "metadata": {
            "tags": []
          },
          "execution_count": 92
        }
      ]
    },
    {
      "cell_type": "code",
      "metadata": {
        "id": "8fBtC5An0A3t",
        "colab_type": "code",
        "colab": {}
      },
      "source": [
        ""
      ],
      "execution_count": 0,
      "outputs": []
    },
    {
      "cell_type": "markdown",
      "metadata": {
        "id": "WFxSD0dF3lr1",
        "colab_type": "text"
      },
      "source": [
        "###Tuple\n",
        "-Tuples are enclosed in paranthesis()\n",
        "-Tuples are immutable i.e, elements inside a tuple cannot be changed, or deleted.\n",
        "-Modifications are not possible\n",
        "-Tuples are used only to access the data\n"
      ]
    },
    {
      "cell_type": "markdown",
      "metadata": {
        "id": "2pftQX_84wCi",
        "colab_type": "text"
      },
      "source": [
        "### Differences between list and tuples:\n",
        "-List--->[], Tuples--->()\n",
        "-List is mutable(changes can be made), Tuple is immutable(no changes can be made)"
      ]
    },
    {
      "cell_type": "code",
      "metadata": {
        "id": "Bnui00sq5PEg",
        "colab_type": "code",
        "colab": {
          "base_uri": "https://localhost:8080/",
          "height": 50
        },
        "outputId": "e158495a-b2e7-428a-b80a-b823ce112d36"
      },
      "source": [
        "t1=(1,6.5,\"python\")\n",
        "print(t1)\n",
        "print(type(t1))"
      ],
      "execution_count": 93,
      "outputs": [
        {
          "output_type": "stream",
          "text": [
            "(1, 6.5, 'python')\n",
            "<class 'tuple'>\n"
          ],
          "name": "stdout"
        }
      ]
    },
    {
      "cell_type": "code",
      "metadata": {
        "id": "xKMx6WWj5-Wf",
        "colab_type": "code",
        "colab": {
          "base_uri": "https://localhost:8080/",
          "height": 34
        },
        "outputId": "db3afcc8-9e71-4a93-ee51-bc21bac95ce2"
      },
      "source": [
        "t1[0:2]"
      ],
      "execution_count": 94,
      "outputs": [
        {
          "output_type": "execute_result",
          "data": {
            "text/plain": [
              "(1, 6.5)"
            ]
          },
          "metadata": {
            "tags": []
          },
          "execution_count": 94
        }
      ]
    },
    {
      "cell_type": "code",
      "metadata": {
        "id": "KLfQYHKG6Fa_",
        "colab_type": "code",
        "colab": {}
      },
      "source": [
        "t1[0]='gitam'"
      ],
      "execution_count": 0,
      "outputs": []
    },
    {
      "cell_type": "code",
      "metadata": {
        "id": "DezCN4mH6pDR",
        "colab_type": "code",
        "colab": {
          "base_uri": "https://localhost:8080/",
          "height": 1000
        },
        "outputId": "13714ccd-3a4f-45d7-ad58-ec15235ae5ac"
      },
      "source": [
        "help('tuple')  #info about tuples"
      ],
      "execution_count": 96,
      "outputs": [
        {
          "output_type": "stream",
          "text": [
            "Help on class tuple in module builtins:\n",
            "\n",
            "class tuple(object)\n",
            " |  tuple() -> empty tuple\n",
            " |  tuple(iterable) -> tuple initialized from iterable's items\n",
            " |  \n",
            " |  If the argument is a tuple, the return value is the same object.\n",
            " |  \n",
            " |  Methods defined here:\n",
            " |  \n",
            " |  __add__(self, value, /)\n",
            " |      Return self+value.\n",
            " |  \n",
            " |  __contains__(self, key, /)\n",
            " |      Return key in self.\n",
            " |  \n",
            " |  __eq__(self, value, /)\n",
            " |      Return self==value.\n",
            " |  \n",
            " |  __ge__(self, value, /)\n",
            " |      Return self>=value.\n",
            " |  \n",
            " |  __getattribute__(self, name, /)\n",
            " |      Return getattr(self, name).\n",
            " |  \n",
            " |  __getitem__(self, key, /)\n",
            " |      Return self[key].\n",
            " |  \n",
            " |  __getnewargs__(...)\n",
            " |  \n",
            " |  __gt__(self, value, /)\n",
            " |      Return self>value.\n",
            " |  \n",
            " |  __hash__(self, /)\n",
            " |      Return hash(self).\n",
            " |  \n",
            " |  __iter__(self, /)\n",
            " |      Implement iter(self).\n",
            " |  \n",
            " |  __le__(self, value, /)\n",
            " |      Return self<=value.\n",
            " |  \n",
            " |  __len__(self, /)\n",
            " |      Return len(self).\n",
            " |  \n",
            " |  __lt__(self, value, /)\n",
            " |      Return self<value.\n",
            " |  \n",
            " |  __mul__(self, value, /)\n",
            " |      Return self*value.\n",
            " |  \n",
            " |  __ne__(self, value, /)\n",
            " |      Return self!=value.\n",
            " |  \n",
            " |  __new__(*args, **kwargs) from builtins.type\n",
            " |      Create and return a new object.  See help(type) for accurate signature.\n",
            " |  \n",
            " |  __repr__(self, /)\n",
            " |      Return repr(self).\n",
            " |  \n",
            " |  __rmul__(self, value, /)\n",
            " |      Return value*self.\n",
            " |  \n",
            " |  count(...)\n",
            " |      T.count(value) -> integer -- return number of occurrences of value\n",
            " |  \n",
            " |  index(...)\n",
            " |      T.index(value, [start, [stop]]) -> integer -- return first index of value.\n",
            " |      Raises ValueError if the value is not present.\n",
            "\n"
          ],
          "name": "stdout"
        }
      ]
    },
    {
      "cell_type": "markdown",
      "metadata": {
        "id": "uFEFnE037KLD",
        "colab_type": "text"
      },
      "source": [
        "###Dictionary\n",
        "-dictionaries are enclosed in {}\n",
        "\n",
        "-It consists of key value pairs\n",
        "\n",
        "-Each key is separated to its value by colon (:)\n",
        "\n",
        "-Each key value pair is separated with other pairs by comma(,)\n",
        "\n",
        "-Keys must be unique while creating any dictionary\n",
        "\n"
      ]
    },
    {
      "cell_type": "code",
      "metadata": {
        "id": "JnQ3wN8A8UrK",
        "colab_type": "code",
        "colab": {
          "base_uri": "https://localhost:8080/",
          "height": 50
        },
        "outputId": "0e922e76-034f-43bc-88ff-7f3dcee5f13c"
      },
      "source": [
        "d1={'Name': 'gitam','email id':'gitam@gmail','address':'hyd'}\n",
        "print(d1)\n",
        "print(type(d1))"
      ],
      "execution_count": 98,
      "outputs": [
        {
          "output_type": "stream",
          "text": [
            "{'Name': 'gitam', 'email id': 'gitam@gmail', 'address': 'hyd'}\n",
            "<class 'dict'>\n"
          ],
          "name": "stdout"
        }
      ]
    },
    {
      "cell_type": "code",
      "metadata": {
        "id": "LvF0ryVK9Pga",
        "colab_type": "code",
        "colab": {
          "base_uri": "https://localhost:8080/",
          "height": 34
        },
        "outputId": "0d0e1638-c255-4513-f925-2b210d839fe5"
      },
      "source": [
        "d1['Name']"
      ],
      "execution_count": 100,
      "outputs": [
        {
          "output_type": "execute_result",
          "data": {
            "text/plain": [
              "'gitam'"
            ]
          },
          "metadata": {
            "tags": []
          },
          "execution_count": 100
        }
      ]
    },
    {
      "cell_type": "code",
      "metadata": {
        "id": "2-6R3Lks9XAu",
        "colab_type": "code",
        "colab": {
          "base_uri": "https://localhost:8080/",
          "height": 34
        },
        "outputId": "fecf8900-ccb5-40a2-d172-364c1520ea64"
      },
      "source": [
        "d1['email id']='python@gmail.com'\n",
        "d1"
      ],
      "execution_count": 102,
      "outputs": [
        {
          "output_type": "execute_result",
          "data": {
            "text/plain": [
              "{'Name': 'gitam', 'address': 'hyd', 'email id': 'python@gmail.com'}"
            ]
          },
          "metadata": {
            "tags": []
          },
          "execution_count": 102
        }
      ]
    },
    {
      "cell_type": "code",
      "metadata": {
        "id": "GkzCY4i-9viJ",
        "colab_type": "code",
        "colab": {
          "base_uri": "https://localhost:8080/",
          "height": 84
        },
        "outputId": "5c55a127-0ca7-4c3b-bdfa-e2ad8f19318d"
      },
      "source": [
        "d1['course']='python'\n",
        "d1"
      ],
      "execution_count": 112,
      "outputs": [
        {
          "output_type": "execute_result",
          "data": {
            "text/plain": [
              "{'Name': 'gitam',\n",
              " 'address': 'hyd',\n",
              " 'course': 'python',\n",
              " 'email id': 'python@gmail.com'}"
            ]
          },
          "metadata": {
            "tags": []
          },
          "execution_count": 112
        }
      ]
    },
    {
      "cell_type": "code",
      "metadata": {
        "id": "j6DJYq0T-Dte",
        "colab_type": "code",
        "colab": {}
      },
      "source": [
        "del d1['course']\n"
      ],
      "execution_count": 0,
      "outputs": []
    },
    {
      "cell_type": "code",
      "metadata": {
        "id": "SXr9o7V4-Ufe",
        "colab_type": "code",
        "colab": {
          "base_uri": "https://localhost:8080/",
          "height": 34
        },
        "outputId": "fd8f5866-ab95-46c5-e480-7f455c3ac08b"
      },
      "source": [
        "d1"
      ],
      "execution_count": 114,
      "outputs": [
        {
          "output_type": "execute_result",
          "data": {
            "text/plain": [
              "{'Name': 'gitam', 'address': 'hyd', 'email id': 'python@gmail.com'}"
            ]
          },
          "metadata": {
            "tags": []
          },
          "execution_count": 114
        }
      ]
    },
    {
      "cell_type": "code",
      "metadata": {
        "id": "ipmmb3nY-bki",
        "colab_type": "code",
        "colab": {
          "base_uri": "https://localhost:8080/",
          "height": 34
        },
        "outputId": "6b5d4472-bfb7-42c2-d306-a25611d7e267"
      },
      "source": [
        "d1.keys()  #returns keys only\n"
      ],
      "execution_count": 117,
      "outputs": [
        {
          "output_type": "execute_result",
          "data": {
            "text/plain": [
              "dict_keys(['Name', 'email id', 'address'])"
            ]
          },
          "metadata": {
            "tags": []
          },
          "execution_count": 117
        }
      ]
    },
    {
      "cell_type": "markdown",
      "metadata": {
        "id": "cSheAMSJAl4u",
        "colab_type": "text"
      },
      "source": [
        "Strings:\n"
      ]
    },
    {
      "cell_type": "code",
      "metadata": {
        "id": "rb67AohgAd9g",
        "colab_type": "code",
        "colab": {
          "base_uri": "https://localhost:8080/",
          "height": 118
        },
        "outputId": "0405561e-315d-4fd7-faf0-be4816bd9c62"
      },
      "source": [
        "s='python'\n",
        "print(s[0])\n",
        "print(s[0:4])\n",
        "print(s[0:5:2])\n",
        "print(s[0:-4])\n",
        "print(s[::2])\n",
        "print(s[::-1])"
      ],
      "execution_count": 123,
      "outputs": [
        {
          "output_type": "stream",
          "text": [
            "p\n",
            "pyth\n",
            "pto\n",
            "py\n",
            "pto\n",
            "nohtyp\n"
          ],
          "name": "stdout"
        }
      ]
    },
    {
      "cell_type": "code",
      "metadata": {
        "id": "7hAZDwJSCTQe",
        "colab_type": "code",
        "colab": {
          "base_uri": "https://localhost:8080/",
          "height": 34
        },
        "outputId": "0481ca71-4bf7-4ad8-a171-02dcd3eb7779"
      },
      "source": [
        "def palin(s):\n",
        "   if s==s[::-1]:\n",
        "      print(\"its a palindrome\")\n",
        "   else:\n",
        "      print('not a palindromw')\n",
        "palin('wow')\n"
      ],
      "execution_count": 127,
      "outputs": [
        {
          "output_type": "stream",
          "text": [
            "its a palindrome\n"
          ],
          "name": "stdout"
        }
      ]
    },
    {
      "cell_type": "markdown",
      "metadata": {
        "id": "sLF1Fy8nDuX7",
        "colab_type": "text"
      },
      "source": [
        "##String methods\n"
      ]
    },
    {
      "cell_type": "code",
      "metadata": {
        "id": "0d6LPhuxD6QF",
        "colab_type": "code",
        "colab": {
          "base_uri": "https://localhost:8080/",
          "height": 101
        },
        "outputId": "58d12ee7-4989-4502-d5ac-393f91f4c85d"
      },
      "source": [
        "s\n",
        "#join\n",
        "print(\" \".join(s))\n",
        "s1='PythonProgramming'\n",
        "print(\",\".join(s1))\n",
        "#split\n",
        "s3='Python programming is easy to learn'    \n",
        "print(s3.split())            #split displays the words in the from of lists\n",
        "print(s3.split('a'))\n",
        "#replace\n",
        "s3\n",
        "print(s3.replace('programming','Application'))"
      ],
      "execution_count": 135,
      "outputs": [
        {
          "output_type": "stream",
          "text": [
            "p y t h o n\n",
            "P,y,t,h,o,n,P,r,o,g,r,a,m,m,i,n,g\n",
            "['Python', 'programming', 'is', 'easy', 'to', 'learn']\n",
            "['Python progr', 'mming is e', 'sy to le', 'rn']\n",
            "Python Application is easy to learn\n"
          ],
          "name": "stdout"
        }
      ]
    }
  ]
}